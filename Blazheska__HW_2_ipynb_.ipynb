{
  "nbformat": 4,
  "nbformat_minor": 0,
  "metadata": {
    "kernelspec": {
      "display_name": "Python 3 (ipykernel)",
      "language": "python",
      "name": "python3"
    },
    "language_info": {
      "codemirror_mode": {
        "name": "ipython",
        "version": 3
      },
      "file_extension": ".py",
      "mimetype": "text/x-python",
      "name": "python",
      "nbconvert_exporter": "python",
      "pygments_lexer": "ipython3",
      "version": "3.8.6"
    },
    "colab": {
      "name": "Blazheska.\"HW-2.ipynb\"",
      "provenance": [],
      "collapsed_sections": []
    }
  },
  "cells": [
    {
      "cell_type": "markdown",
      "metadata": {
        "id": "A3posBit_v77"
      },
      "source": [
        "# Домашнее задание №2 ( балла)\n",
        "\n",
        "## дедлайн 7 октября 18:10\n",
        "### 10 или 9 можно получить, если сдать домашнее задание полностью до 3 октября 23:59, а также верно выполнить задания со звездочками\n",
        "\n",
        "\n",
        "Цель:\n",
        "\n",
        "Отработать навыки работы с основными типами данных в Python.\n",
        "Отработать навыки работы с основными структурами данных в Python."
      ]
    },
    {
      "cell_type": "markdown",
      "metadata": {
        "id": "V3_p-c6m_v78"
      },
      "source": [
        "**NB!** Задания необходимо выполнять таким образом, что переменную/-ые можно было заменить на схожее слово/число/текст/список/и т.д., при этом задание все равно выполнялось бы верно."
      ]
    },
    {
      "cell_type": "markdown",
      "metadata": {
        "id": "5IHy3DUz_v8G"
      },
      "source": [
        "### Часть 1. Списки (16 баллов)"
      ]
    },
    {
      "cell_type": "markdown",
      "metadata": {
        "id": "LF37caBG_v8G"
      },
      "source": [
        "1. (2 балла) Пользователь вводит несколько чисел через запятую. Сделайте из этих чисел список, подсчитайте сумму элементов, среднее, максимальное и минимальное значение. Все результаты подсчетов выведите на экран"
      ]
    },
    {
      "cell_type": "code",
      "metadata": {
        "colab": {
          "base_uri": "https://localhost:8080/"
        },
        "id": "5GdWIHIhXblB",
        "outputId": "a5b71b25-635d-4094-f965-0468897174a2"
      },
      "source": [
        "numbers = input(\"введите числа через запятую: \")\n",
        "numbers = [int(i) for i  in numbers.split(\", \")]\n",
        "\n",
        "print(\"Сумма элементов: \", sum(numbers))\n",
        "\n",
        "print(\"Максимальное значение: \", (max(numbers)))\n",
        "print(\"Минимальное значение: \", (min(numbers)))\n",
        "print(\"Среднее значение: \", sum(numbers) / len(numbers))\n",
        "\n"
      ],
      "execution_count": 35,
      "outputs": [
        {
          "output_type": "stream",
          "name": "stdout",
          "text": [
            "введите числа через запятую: 5, 6, 3\n",
            "Сумма элементов:  14\n",
            "Максимальное значение:  6\n",
            "Минимальное значение:  3\n",
            "Среднее значение:  4.666666666666667\n"
          ]
        }
      ]
    },
    {
      "cell_type": "markdown",
      "metadata": {
        "id": "KLUTNmQk_v8G"
      },
      "source": [
        "2. (2 балла) Даны два списка. \"Слить\" их через один (чередуя элементы то одного, то другого списка).\n",
        "\n",
        "`f = [1,2,3]`\n",
        "\n",
        "`s = ['1','2','3']`\n",
        "\n",
        "Ожидаемый результат:\n",
        "\n",
        "`[1, '1', 2, '2', 3, '3']`\n"
      ]
    },
    {
      "cell_type": "markdown",
      "metadata": {
        "id": "1be1P1k5_v8H"
      },
      "source": [
        "* _Список может быть любого размера, а ваш код все равно должен работать._\n",
        "* _можно заработать + 2 балла к заданию, если сделать его в одну строку_"
      ]
    },
    {
      "cell_type": "code",
      "metadata": {
        "id": "y1VqZ_7P_v8H",
        "colab": {
          "base_uri": "https://localhost:8080/"
        },
        "outputId": "bc2e7b39-2cec-4363-87b3-fa4364c7eac4"
      },
      "source": [
        "f = [1,2,3,4,5,6]\n",
        "s = ['1','2','3','4','5','6']\n",
        "\n",
        "x = []\n",
        "\n",
        "for i in range(len(f)):\n",
        "    x.append(f[i])\n",
        "    x.append(s[i])\n",
        "\n",
        "print(x)\n",
        "\n"
      ],
      "execution_count": 36,
      "outputs": [
        {
          "output_type": "stream",
          "name": "stdout",
          "text": [
            "[1, '1', 2, '2', 3, '3', 4, '4', 5, '5', 6, '6']\n"
          ]
        }
      ]
    },
    {
      "cell_type": "markdown",
      "metadata": {
        "id": "wAsDtE_0_v8H"
      },
      "source": [
        "3. (4 балла) Создайте следующий лист: \n",
        "\n",
        "`months = [\n",
        "'Декабрь', 'Январь', 'Февраль',\n",
        "'Март', 'Апрель', 'Май',\n",
        "'Июнь', 'Июль', 'Август',\n",
        "'Сентябрь', 'Октябрь', 'Ноябрь'\n",
        "]`. \n",
        "\n",
        "Ваша задача получить из него:\n",
        "    - все зимние месяцы\n",
        "    - все летние месяцы\n",
        "    - каждый второй месяц года начиная с Января\n",
        "    - первые месяцы каждого сезона (4),\n",
        "\n",
        "используя `slice`."
      ]
    },
    {
      "cell_type": "code",
      "metadata": {
        "id": "ol-aAzBb_v8H",
        "colab": {
          "base_uri": "https://localhost:8080/"
        },
        "outputId": "ab7c8928-65f4-4b3d-99ef-ce592d3b87bb"
      },
      "source": [
        "months = [\"Декабрь\", \"Январь\", \"Февраль\", \"Март\", \"Апрель\", \"Май\", \"Июнь\", \"Июль\", \"Август\", \"Сентябрь\", \"Октябрь\", \"Ноябрь\"]\n",
        "\n",
        "\n",
        "print(months[0:3])\n",
        "\n",
        "print(months[6:9])\n",
        "\n",
        "print(months[1::2])\n",
        "\n",
        "print(months[::3])\n"
      ],
      "execution_count": 37,
      "outputs": [
        {
          "output_type": "stream",
          "name": "stdout",
          "text": [
            "['Декабрь', 'Январь', 'Февраль']\n",
            "['Июнь', 'Июль', 'Август']\n",
            "['Январь', 'Март', 'Май', 'Июль', 'Сентябрь', 'Ноябрь']\n",
            "['Декабрь', 'Март', 'Июнь', 'Сентябрь']\n"
          ]
        }
      ]
    },
    {
      "cell_type": "markdown",
      "metadata": {
        "id": "dyFDN1th_v8H"
      },
      "source": [
        "4. (3 балла) Создайте list \n",
        "\n",
        "`weekdays = ['Понедельник', 2, 'Cреда', 'Четверг', 5]`\n",
        "\n",
        "- Исправьте числа 2 и 5 на Вторник и Пятницу соответственно\n",
        "- Добавьте недостающие дни в конец списка\n",
        "- Посчитайте длину итогового листа"
      ]
    },
    {
      "cell_type": "code",
      "metadata": {
        "id": "mpUCmwn4_v8H",
        "colab": {
          "base_uri": "https://localhost:8080/"
        },
        "outputId": "433d9219-85c6-4e63-a613-0dfc67efc49c"
      },
      "source": [
        "weekdays = [\"Понедельник\", 2, \"Среда\", \"Четверг\", 5]\n",
        "weekdays[1] = \"Вторник\"\n",
        "\n",
        "weekdays[4] = \"Пятница\"\n",
        "\n",
        "weekdays.append (\"Суббота\")\n",
        "weekdays.append (\"Воскресенье\")\n",
        "\n",
        "print(weekdays)\n",
        "\n",
        "print(\"Длина списка: \", (len(weekdays)))\n"
      ],
      "execution_count": 38,
      "outputs": [
        {
          "output_type": "stream",
          "name": "stdout",
          "text": [
            "['Понедельник', 'Вторник', 'Среда', 'Четверг', 'Пятница', 'Суббота', 'Воскресенье']\n",
            "Длина списка:  7\n"
          ]
        }
      ]
    },
    {
      "cell_type": "markdown",
      "metadata": {
        "id": "sX7Pyq8d_v8H"
      },
      "source": [
        "5. (3 балла) Создайте строку (str) `'йтцыу фочтмлзирчйнбою асапырйафвялгяшещшоьрскяу!й'`\n",
        "\n",
        "    - Превратите ее в лист символов\n",
        "    - Расшифруйте закодированное в ней сообщение, выбрав из всех символов только символы с **нечетным** индексом\n",
        "    - Превратите полученный лист обратно в строку и напечатайте результат\n",
        "\n",
        "**Hint** вам понадобится функция `.join()`"
      ]
    },
    {
      "cell_type": "code",
      "metadata": {
        "id": "XiJ6MmN8Rb-l",
        "colab": {
          "base_uri": "https://localhost:8080/"
        },
        "outputId": "82f5eb39-f583-41cc-8bc4-f6d9202bb09e"
      },
      "source": [
        "text1 = 'йтцыу фочтмлзирчйнбою асапырйафвялгяшещшоьрскяу!й'\n",
        "\n",
        "print(''.join(list(text1)[1::2]))\n",
        "\n"
      ],
      "execution_count": 39,
      "outputs": [
        {
          "output_type": "stream",
          "name": "stdout",
          "text": [
            "ты отлично справляешься!\n"
          ]
        }
      ]
    },
    {
      "cell_type": "markdown",
      "metadata": {
        "id": "hI1vaX97DLgo"
      },
      "source": [
        "6. (2 балла) Дан список (придумайте любой и положите в переменную `my_list`, `input()` использовать не нужно). Проверить, содержит ли данный список повторяющиеся элементы, удалить повторяющиеся элементы (без использования `dict` и `set`)"
      ]
    },
    {
      "cell_type": "code",
      "metadata": {
        "colab": {
          "base_uri": "https://localhost:8080/"
        },
        "id": "rtjxAGnRh62R",
        "outputId": "c8d3e30f-2851-4b4e-d045-bbc1e4937baa"
      },
      "source": [
        "l = [\"Мама\", \"мыла\", \"мыла\", \"раму\"]\n",
        "my_list = l\n",
        "\n",
        "status = True\n",
        "for item in l:\n",
        "  if l.count(item)> 1:\n",
        "    status = False \n",
        "\n",
        "if status == True:\n",
        "  Print(\"No dublicates\")\n",
        "else: \n",
        "  print(\"Dublicate found\")\n"
      ],
      "execution_count": 34,
      "outputs": [
        {
          "output_type": "stream",
          "name": "stdout",
          "text": [
            "Dublicate found\n"
          ]
        }
      ]
    },
    {
      "cell_type": "code",
      "metadata": {
        "colab": {
          "base_uri": "https://localhost:8080/"
        },
        "id": "siQcEm5ujkO3",
        "outputId": "80ca744c-94bf-471d-eb71-32e249699ba2"
      },
      "source": [
        "l = [\"Мама\", \"мыла\", \"мыла\", \"раму\"]\n",
        "my_list = l\n",
        "\n",
        "element = set(my_list)\n",
        "\n",
        "print(my_list)\n",
        "print(element)\n",
        "\n",
        "\n",
        "if len(set(l)) == len(l):\n",
        "    print(\"success\")\n",
        "else:\n",
        "    print(\"dublicate dound\")"
      ],
      "execution_count": 40,
      "outputs": [
        {
          "output_type": "stream",
          "name": "stdout",
          "text": [
            "['Мама', 'мыла', 'мыла', 'раму']\n",
            "{'раму', 'Мама', 'мыла'}\n",
            "dublicate dound\n"
          ]
        }
      ]
    },
    {
      "cell_type": "markdown",
      "metadata": {
        "id": "nSJWKkvq_v8I"
      },
      "source": [
        "### Часть 2. Кортежи (3 балла)"
      ]
    },
    {
      "cell_type": "markdown",
      "metadata": {
        "id": "hFX4GTq1_v8I"
      },
      "source": [
        "29. (1 балл) Создать кортеж из одного элемента."
      ]
    },
    {
      "cell_type": "code",
      "metadata": {
        "id": "_qcdWtzz_v8I",
        "colab": {
          "base_uri": "https://localhost:8080/"
        },
        "outputId": "89ab8207-deb7-404d-d49c-210338b4fb4a"
      },
      "source": [
        "t = (\"комод\")\n",
        "print(t)"
      ],
      "execution_count": 41,
      "outputs": [
        {
          "output_type": "stream",
          "name": "stdout",
          "text": [
            "комод\n"
          ]
        }
      ]
    },
    {
      "cell_type": "markdown",
      "metadata": {
        "id": "WFrsJtZr_v8I"
      },
      "source": [
        "30. (1 балл) Создайте кортеж из списка, напечатайте его.\n",
        "\n",
        "`months = [\n",
        "'Январь', 'Февраль',\n",
        "'Март', 'Апрель', 'Май',\n",
        "'Июнь', 'Июль', 'Август',\n",
        "'Сентябрь', 'Октябрь', 'Ноябрь'\n",
        "]`"
      ]
    },
    {
      "cell_type": "code",
      "metadata": {
        "id": "1zL4nMN4_v8I",
        "colab": {
          "base_uri": "https://localhost:8080/"
        },
        "outputId": "e4c7ab7a-c36f-4d6c-8532-6b85ab7047e4"
      },
      "source": [
        "months = [ 'Январь', 'Февраль', 'Март', 'Апрель', 'Май', 'Июнь', 'Июль', 'Август', 'Сентябрь', 'Октябрь', 'Ноябрь' ]\n",
        "t = tuple (months)\n",
        "print(t)\n"
      ],
      "execution_count": 42,
      "outputs": [
        {
          "output_type": "stream",
          "name": "stdout",
          "text": [
            "('Январь', 'Февраль', 'Март', 'Апрель', 'Май', 'Июнь', 'Июль', 'Август', 'Сентябрь', 'Октябрь', 'Ноябрь')\n"
          ]
        }
      ]
    },
    {
      "cell_type": "markdown",
      "metadata": {
        "id": "iGn7e0Ow_v8I"
      },
      "source": [
        "31. (1 балл) Добавьте недостающий месяц (на выходе ожидается кортеж)"
      ]
    },
    {
      "cell_type": "code",
      "metadata": {
        "colab": {
          "base_uri": "https://localhost:8080/"
        },
        "id": "NvOQOqa4svoT",
        "outputId": "73f4dfe1-4b1f-4d33-d31a-f4e73fba435c"
      },
      "source": [
        "months = ['Январь', 'Февраль', 'Март', 'Апрель', 'Май', 'Июнь', 'Июль', 'Август', 'Сентябрь', 'Октябрь', 'Ноябрь']\n",
        "\n",
        "months.append ('Декабрь')\n",
        "\n",
        "t = tuple (months)\n",
        "print(t)"
      ],
      "execution_count": 43,
      "outputs": [
        {
          "output_type": "stream",
          "name": "stdout",
          "text": [
            "('Январь', 'Февраль', 'Март', 'Апрель', 'Май', 'Июнь', 'Июль', 'Август', 'Сентябрь', 'Октябрь', 'Ноябрь', 'Декабрь')\n"
          ]
        }
      ]
    },
    {
      "cell_type": "markdown",
      "metadata": {
        "id": "netCKvWK_v8I"
      },
      "source": [
        "### Часть 3. Сеты (4 балла)"
      ]
    },
    {
      "cell_type": "markdown",
      "metadata": {
        "id": "vmpZWO8Z_v8I"
      },
      "source": [
        "32. (1 балл) Посчитать, сколько различных букв в слове 'превысокомногорассмотрительствующий'"
      ]
    },
    {
      "cell_type": "code",
      "metadata": {
        "id": "IUBHgO78_v8J",
        "colab": {
          "base_uri": "https://localhost:8080/"
        },
        "outputId": "2f1a2cdb-bdbc-46b0-f8cf-414520bb6523"
      },
      "source": [
        "word = 'превысокомногорассмотрительствующий'\n",
        "\n",
        "word1 = set(word)\n",
        "print(word1, len(word1))"
      ],
      "execution_count": 44,
      "outputs": [
        {
          "output_type": "stream",
          "name": "stdout",
          "text": [
            "{'л', 'г', 'ы', 'т', 'у', 'с', 'п', 'ю', 'н', 'е', 'м', 'щ', 'к', 'и', 'ь', 'а', 'р', 'о', 'й', 'в'} 20\n"
          ]
        }
      ]
    },
    {
      "cell_type": "markdown",
      "metadata": {
        "id": "EtPaMLQO_v8J"
      },
      "source": [
        "33. (1 балл) Какие различные буквы имеют слова \"превысокомногорассмотрительствующий\" и \"водогрязеторфопарафинолечение\"?"
      ]
    },
    {
      "cell_type": "code",
      "metadata": {
        "id": "dwIdysLu_v8J",
        "colab": {
          "base_uri": "https://localhost:8080/"
        },
        "outputId": "4381468c-e117-4a51-a362-43e4ea9d1b8f"
      },
      "source": [
        "word = 'превысокомногорассмотрительствующий'\n",
        "word1 = set(word)\n",
        "print(\"Различные буквы в 1 слове: \", word1)\n",
        "\n",
        "slovo = 'водогрязеторфопарафинолечение'\n",
        "slovo1 = set(slovo)\n",
        "print(\"Различные буквы во 2 слове: \", slovo1)\n",
        "\n",
        "set(list( 'превысокомногорассмотрительствующий' + 'водогрязеторфопарафинолечение'))"
      ],
      "execution_count": 51,
      "outputs": [
        {
          "output_type": "stream",
          "name": "stdout",
          "text": [
            "Различные буквы в 1 слове:  {'л', 'г', 'ы', 'т', 'у', 'с', 'п', 'ю', 'н', 'е', 'м', 'щ', 'к', 'и', 'ь', 'а', 'р', 'о', 'й', 'в'}\n",
            "Различные буквы во 2 слове:  {'о', 'л', 'з', 'т', 'н', 'ф', 'д', 'г', 'е', 'а', 'ч', 'п', 'и', 'я', 'в', 'р'}\n"
          ]
        },
        {
          "output_type": "execute_result",
          "data": {
            "text/plain": [
              "{'а',\n",
              " 'в',\n",
              " 'г',\n",
              " 'д',\n",
              " 'е',\n",
              " 'з',\n",
              " 'и',\n",
              " 'й',\n",
              " 'к',\n",
              " 'л',\n",
              " 'м',\n",
              " 'н',\n",
              " 'о',\n",
              " 'п',\n",
              " 'р',\n",
              " 'с',\n",
              " 'т',\n",
              " 'у',\n",
              " 'ф',\n",
              " 'ч',\n",
              " 'щ',\n",
              " 'ы',\n",
              " 'ь',\n",
              " 'ю',\n",
              " 'я'}"
            ]
          },
          "metadata": {},
          "execution_count": 51
        }
      ]
    },
    {
      "cell_type": "markdown",
      "metadata": {
        "id": "UQxsVL3w_v8J"
      },
      "source": [
        "34. (1 балл) Какие общие буквы имеют слова \"превысокомногорассмотрительствующий\" и \"водогрязеторфопарафинолечение\"?"
      ]
    },
    {
      "cell_type": "code",
      "metadata": {
        "id": "unSFfV_a_v8J",
        "colab": {
          "base_uri": "https://localhost:8080/"
        },
        "outputId": "7aa3b22f-8911-466e-d80d-5a2585a84ad2"
      },
      "source": [
        "x = set(word)\n",
        "y = set(slovo)\n",
        "\n",
        "x.intersection(y)"
      ],
      "execution_count": null,
      "outputs": [
        {
          "output_type": "execute_result",
          "data": {
            "text/plain": [
              "{'а', 'в', 'г', 'е', 'и', 'л', 'н', 'о', 'п', 'р', 'т'}"
            ]
          },
          "metadata": {},
          "execution_count": 16
        }
      ]
    },
    {
      "cell_type": "markdown",
      "metadata": {
        "id": "GauGi3oF_v8J"
      },
      "source": [
        "35. (1 балл) Есть ли буквы в слове \"превысокомногорассмотрительствующий\", которых нет в слове \"водогрязеторфопарафинолечение\"? А наоборот?"
      ]
    },
    {
      "cell_type": "code",
      "metadata": {
        "id": "TfTtSHFY_v8J",
        "colab": {
          "base_uri": "https://localhost:8080/"
        },
        "outputId": "4e6b3a98-acb7-42c6-a2b3-2a846efb774b"
      },
      "source": [
        "print(\"Буквы, которых нет в y: \", x - y)\n",
        "print(\"Буквы, которых нет в x: \", y - x)"
      ],
      "execution_count": null,
      "outputs": [
        {
          "output_type": "stream",
          "name": "stdout",
          "text": [
            "Буквы, которых нет в y:  {'щ', 'ы', 'й', 'ю', 'с', 'ь', 'у', 'к', 'м'}\n",
            "Буквы, которых нет в x:  {'ч', 'я', 'з', 'д', 'ф'}\n"
          ]
        }
      ]
    },
    {
      "cell_type": "markdown",
      "metadata": {
        "id": "E2sczfkn_v8J"
      },
      "source": [
        "### Часть 6. Словари и полезные вещи (10 баллов)"
      ]
    },
    {
      "cell_type": "markdown",
      "metadata": {
        "id": "VxZ4E8JhEHxD"
      },
      "source": [
        "Дан текст. Текст приведен к начальной форме уже за вас (мы это научимся делать на следующем занятии).\n",
        "```\n",
        "1. DJ Khaled замутить трек, в который читать только Drake. \n",
        "2. Drake организовывать на этот песня очень крутой клип, в который вместо он сниматься только джастин бибер.\n",
        "\n",
        "видимо, награда за весь это быть получать леонардо дикаприо 😅\n",
        "\n",
        "в клип джастин, кстати, выглядеть очень бодрый и наконец выздоравливать от болезнь и депрессия.\n",
        "отдельный прикол в то, что он там «читать» строчка про свой бывший девушка селен гомес, про себя сам и про то, насколько дрейк - крутой они все и взрывать индустрия 😂🤟\n",
        "```"
      ]
    },
    {
      "cell_type": "markdown",
      "metadata": {
        "id": "hGBIV3hS_v8K"
      },
      "source": [
        "36. (1 балл) Запишите его в переменную. Обратите внимание, что текст многострочный -- переносы строки нужно сохранить!"
      ]
    },
    {
      "cell_type": "code",
      "metadata": {
        "id": "Utfhpysy1MyY"
      },
      "source": [
        "text = '''\n",
        "1. DJ Khaled замутить трек, в который читать только Drake. \n",
        "2. Drake организовывать на этот песня очень крутой клип, в который вместо он сниматься только джастин бибер.\n",
        "\n",
        "видимо, награда за весь это быть получать леонардо дикаприо 😅\n",
        "\n",
        "в клип джастин, кстати, выглядеть очень бодрый и наконец выздоравливать от болезнь и депрессия.\n",
        "отдельный прикол в то, что он там «читать» строчка про свой бывший девушка селен гомес, про себя сам и про то, насколько дрейк - крутой они все и взрывать индустрия 😂🤟\n",
        "'''"
      ],
      "execution_count": 4,
      "outputs": []
    },
    {
      "cell_type": "markdown",
      "metadata": {
        "id": "Z2529Ids_v8K"
      },
      "source": [
        "37. (1 балл) Разделите текст на предложения (используя `\"\\n\"`) "
      ]
    },
    {
      "cell_type": "code",
      "metadata": {
        "id": "DWR1Ckig_v8K",
        "colab": {
          "base_uri": "https://localhost:8080/"
        },
        "outputId": "2088a20d-c91e-4700-fca2-fe1986363f08"
      },
      "source": [
        "sentences = text.split(\"\\n\")\n",
        "sentences"
      ],
      "execution_count": 5,
      "outputs": [
        {
          "output_type": "execute_result",
          "data": {
            "text/plain": [
              "['',\n",
              " '1. DJ Khaled замутить трек, в который читать только Drake. ',\n",
              " '2. Drake организовывать на этот песня очень крутой клип, в который вместо он сниматься только джастин бибер.',\n",
              " '',\n",
              " 'видимо, награда за весь это быть получать леонардо дикаприо 😅',\n",
              " '',\n",
              " 'в клип джастин, кстати, выглядеть очень бодрый и наконец выздоравливать от болезнь и депрессия.',\n",
              " 'отдельный прикол в то, что он там «читать» строчка про свой бывший девушка селен гомес, про себя сам и про то, насколько дрейк - крутой они все и взрывать индустрия 😂🤟',\n",
              " '']"
            ]
          },
          "metadata": {},
          "execution_count": 5
        }
      ]
    },
    {
      "cell_type": "markdown",
      "metadata": {
        "id": "pa1_7zAS_v8K"
      },
      "source": [
        "38. (2 балла) Разделите предложения на слова, удалите пунктуацию до и после слов, используя `.strip()`. И кавычки тоже удалите."
      ]
    },
    {
      "cell_type": "code",
      "metadata": {
        "id": "Fj0ZPwO1_v8K",
        "colab": {
          "base_uri": "https://localhost:8080/"
        },
        "outputId": "3cf07bc1-3c73-4760-842c-6ae6cd31055a"
      },
      "source": [
        "from string import punctuation\n",
        "\n",
        "punct = \", . «» \"\n",
        "\n",
        "sentences_with_words = []\n",
        "\n",
        "text[0]\n",
        "\n",
        "for sentence in sentences:\n",
        "  sentences_with_words.append([i.strip(punct) for i in sentence.split()])\n",
        "\n",
        "print(sentences_with_words)"
      ],
      "execution_count": 61,
      "outputs": [
        {
          "output_type": "stream",
          "name": "stdout",
          "text": [
            "[[], ['1', 'DJ', 'Khaled', 'замутить', 'трек', 'в', 'который', 'читать', 'только', 'Drake'], ['2', 'Drake', 'организовывать', 'на', 'этот', 'песня', 'очень', 'крутой', 'клип', 'в', 'который', 'вместо', 'он', 'сниматься', 'только', 'джастин', 'бибер'], [], ['видимо', 'награда', 'за', 'весь', 'это', 'быть', 'получать', 'леонардо', 'дикаприо', '😅'], [], ['в', 'клип', 'джастин', 'кстати', 'выглядеть', 'очень', 'бодрый', 'и', 'наконец', 'выздоравливать', 'от', 'болезнь', 'и', 'депрессия'], ['отдельный', 'прикол', 'в', 'то', 'что', 'он', 'там', 'читать', 'строчка', 'про', 'свой', 'бывший', 'девушка', 'селен', 'гомес', 'про', 'себя', 'сам', 'и', 'про', 'то', 'насколько', 'дрейк', '-', 'крутой', 'они', 'все', 'и', 'взрывать', 'индустрия', '😂🤟'], []]\n"
          ]
        }
      ]
    },
    {
      "cell_type": "markdown",
      "metadata": {
        "id": "H6JJW1GH_v8K"
      },
      "source": [
        "39. (2 балла) Создайте словарь, в котором ключ -- слово из текста, а значение -- количество раз, сколько оно встречается во всем тексте.\n",
        "\n",
        "например:\n",
        "\n",
        "`dct = {\"go\": 1, \"went\": 2, \"gone\": 3}`\n",
        "\n",
        "Напечатайте словарь"
      ]
    },
    {
      "cell_type": "code",
      "metadata": {
        "id": "cy5_T8yM_v8L",
        "colab": {
          "base_uri": "https://localhost:8080/"
        },
        "outputId": "fa00f0c0-54d3-4a38-a0ca-0430ef516d50"
      },
      "source": [
        "dictionary = {}\n",
        "\n",
        "for word_list in sentences_with_words:\n",
        "  for word in word_list:\n",
        "    if word not in dictionary:\n",
        "        dictionary[word] = 1\n",
        "    else: \n",
        "      dictionary[word]+=1\n",
        "\n",
        "print(dictionary)\n",
        "\n"
      ],
      "execution_count": 11,
      "outputs": [
        {
          "output_type": "stream",
          "name": "stdout",
          "text": [
            "{'1': 1, 'DJ': 1, 'Khaled': 1, 'замутить': 1, 'трек': 1, 'в': 4, 'который': 2, 'читать': 2, 'только': 2, 'Drake': 2, '2': 1, 'организовывать': 1, 'на': 1, 'этот': 1, 'песня': 1, 'очень': 2, 'крутой': 2, 'клип': 2, 'вместо': 1, 'он': 2, 'сниматься': 1, 'джастин': 2, 'бибер': 1, 'видимо': 1, 'награда': 1, 'за': 1, 'весь': 1, 'это': 1, 'быть': 1, 'получать': 1, 'леонардо': 1, 'дикаприо': 1, '😅': 1, 'кстати': 1, 'выглядеть': 1, 'бодрый': 1, 'и': 4, 'наконец': 1, 'выздоравливать': 1, 'от': 1, 'болезнь': 1, 'депрессия': 1, 'отдельный': 1, 'прикол': 1, 'то': 2, 'что': 1, 'там': 1, 'строчка': 1, 'про': 3, 'свой': 1, 'бывший': 1, 'девушка': 1, 'селен': 1, 'гомес': 1, 'себя': 1, 'сам': 1, 'насколько': 1, 'дрейк': 1, '-': 1, 'они': 1, 'все': 1, 'взрывать': 1, 'индустрия': 1, '😂🤟': 1}\n"
          ]
        }
      ]
    },
    {
      "cell_type": "markdown",
      "metadata": {
        "id": "lCKeMfMY_v8L"
      },
      "source": [
        "40. (2 балла) Напечатайте слова, встречающиеся более 1 раза в формате `\"слово кол-во раз\"` через пробел.\n",
        "\n",
        "    * Если сможете напечатать в порядке убывания (от большего к меньшему) + 2 балла"
      ]
    },
    {
      "cell_type": "code",
      "metadata": {
        "id": "bd5BAdeu_v8L",
        "colab": {
          "base_uri": "https://localhost:8080/"
        },
        "outputId": "51f0b26b-b9f2-4f83-bbfb-0e6291d65f8e"
      },
      "source": [
        "for key in dictionary:\n",
        "  if dictionary[key] > 1:\n",
        "    print(key, dictionary[key])"
      ],
      "execution_count": 14,
      "outputs": [
        {
          "output_type": "stream",
          "name": "stdout",
          "text": [
            "в 4\n",
            "который 2\n",
            "читать 2\n",
            "только 2\n",
            "Drake 2\n",
            "очень 2\n",
            "крутой 2\n",
            "клип 2\n",
            "он 2\n",
            "джастин 2\n",
            "и 4\n",
            "то 2\n",
            "про 3\n"
          ]
        }
      ]
    },
    {
      "cell_type": "markdown",
      "metadata": {
        "id": "6mEkbtQk_v8M"
      },
      "source": [
        "41. (2 балла) Пользователь вводит с клавиатуры какое-нибудь слово.\n",
        "Проверяем, есть ли слово в массиве: если нет, добавляем его туда и печатаем \"Слово X добавлено\", а если есть, то печатаем ответ \"Слово X в тексте N раз\"."
      ]
    },
    {
      "cell_type": "code",
      "metadata": {
        "colab": {
          "base_uri": "https://localhost:8080/"
        },
        "id": "EK98HA5OmOpa",
        "outputId": "992c4526-a2f9-4415-823d-ebe320eb26d0"
      },
      "source": [
        "word = input(\"Введите слово: \")\n",
        "\n",
        "if word in sentences_with_words:\n",
        "  print(f'Слово {word} в тексте {sentences_with_words.count(word)} раз')\n",
        "\n",
        "if word not in sentences_with_words:\n",
        "  sentences_with_words.append(word)\n",
        "  print(f'Слово {word} добавлено')\n",
        "\n",
        "print(sentences_with_words)\n"
      ],
      "execution_count": 63,
      "outputs": [
        {
          "output_type": "stream",
          "name": "stdout",
          "text": [
            "Введите слово: гитара\n",
            "Слово гитара добавлено\n",
            "[[], ['1', 'DJ', 'Khaled', 'замутить', 'трек', 'в', 'который', 'читать', 'только', 'Drake'], ['2', 'Drake', 'организовывать', 'на', 'этот', 'песня', 'очень', 'крутой', 'клип', 'в', 'который', 'вместо', 'он', 'сниматься', 'только', 'джастин', 'бибер'], [], ['видимо', 'награда', 'за', 'весь', 'это', 'быть', 'получать', 'леонардо', 'дикаприо', '😅'], [], ['в', 'клип', 'джастин', 'кстати', 'выглядеть', 'очень', 'бодрый', 'и', 'наконец', 'выздоравливать', 'от', 'болезнь', 'и', 'депрессия'], ['отдельный', 'прикол', 'в', 'то', 'что', 'он', 'там', 'читать', 'строчка', 'про', 'свой', 'бывший', 'девушка', 'селен', 'гомес', 'про', 'себя', 'сам', 'и', 'про', 'то', 'насколько', 'дрейк', '-', 'крутой', 'они', 'все', 'и', 'взрывать', 'индустрия', '😂🤟'], [], 'гитара']\n"
          ]
        }
      ]
    },
    {
      "cell_type": "code",
      "metadata": {
        "id": "JvQMP8wR_v8M",
        "colab": {
          "base_uri": "https://localhost:8080/"
        },
        "outputId": "6c56c472-54e6-4117-847b-60dfe615daa7"
      },
      "source": [
        "word = input(\"Введите слово: \")\n",
        "\n",
        "l = [\"краски\", \"карандаши\", \"бумага\", \"блокнот\", \"ручка\"]\n",
        "\n",
        "if word in l:\n",
        "  print(f'Слово {word} в тексте {l.count(word)} раз')\n",
        "\n",
        "else:\n",
        "  l.append(word)\n",
        "  print(f'Слово {word} добавлено')\n",
        "\n",
        "print(l)"
      ],
      "execution_count": 31,
      "outputs": [
        {
          "output_type": "stream",
          "name": "stdout",
          "text": [
            "Введите слово: ручка\n",
            "Слово ручка в тексте 1 раз\n",
            "['краски', 'карандаши', 'бумага', 'блокнот', 'ручка']\n"
          ]
        }
      ]
    },
    {
      "cell_type": "markdown",
      "metadata": {
        "id": "YTZ_hhhBFasx"
      },
      "source": [
        "## Задания со звездочкой (9 или 10 можно получить, решив эти задания)"
      ]
    },
    {
      "cell_type": "markdown",
      "metadata": {
        "id": "159FPHDYFpk1"
      },
      "source": [
        "42. По заданному n вывести левосторонний треугольник из следующих цифр:\n"
      ]
    },
    {
      "cell_type": "code",
      "metadata": {
        "colab": {
          "base_uri": "https://localhost:8080/"
        },
        "id": "iLBmHL--eZZn",
        "outputId": "818a3c61-8a70-45a9-ecf3-c0fb0dd79b63"
      },
      "source": [
        "n = 10 \n",
        "\n",
        "corner = []\n",
        "\n",
        "for i in range(n):\n",
        "  corner.append(i)\n",
        "  print(*corner)\n"
      ],
      "execution_count": null,
      "outputs": [
        {
          "output_type": "stream",
          "name": "stdout",
          "text": [
            "0\n",
            "0 1\n",
            "0 1 2\n",
            "0 1 2 3\n",
            "0 1 2 3 4\n",
            "0 1 2 3 4 5\n",
            "0 1 2 3 4 5 6\n",
            "0 1 2 3 4 5 6 7\n",
            "0 1 2 3 4 5 6 7 8\n",
            "0 1 2 3 4 5 6 7 8 9\n"
          ]
        }
      ]
    },
    {
      "cell_type": "markdown",
      "metadata": {
        "id": "-9rUNF4-Fofe"
      },
      "source": [
        "43. По заданному n вывести перевернутый правосторонний треугольник из следующих цифр"
      ]
    },
    {
      "cell_type": "code",
      "metadata": {
        "colab": {
          "base_uri": "https://localhost:8080/"
        },
        "id": "Sa7ZDOa-Fm7O",
        "outputId": "c697abec-f99a-4dc6-e7eb-3401dd1de4bc"
      },
      "source": [
        "n = 10 \n",
        "\n",
        "corner = list(range(n))\n",
        "\n",
        "\n",
        "for i in range(n):\n",
        "  print(\" \" *2*i + \" \".join(map(str, corner)))\n",
        "  corner.pop()\n"
      ],
      "execution_count": null,
      "outputs": [
        {
          "output_type": "stream",
          "name": "stdout",
          "text": [
            "0 1 2 3 4 5 6 7 8 9\n",
            "  0 1 2 3 4 5 6 7 8\n",
            "    0 1 2 3 4 5 6 7\n",
            "      0 1 2 3 4 5 6\n",
            "        0 1 2 3 4 5\n",
            "          0 1 2 3 4\n",
            "            0 1 2 3\n",
            "              0 1 2\n",
            "                0 1\n",
            "                  0\n"
          ]
        }
      ]
    },
    {
      "cell_type": "markdown",
      "metadata": {
        "id": "y1BSSdWe_v8N"
      },
      "source": [
        "#### Напишите ниже вашу обратную связь по домашнему заданию в комментарии. \n",
        "\n",
        "#### Какие задания показались вам самыми сложными / простыми? Что понравилось, а что нет?"
      ]
    },
    {
      "cell_type": "code",
      "metadata": {
        "id": "xciAjxQG_v8N"
      },
      "source": [
        "Мне очень нравится наш курс, но хотелось бы, чтобы лекция выстраивалась таким образом, \n",
        "чтобы домашнее задание можно было выполнить без гугла. Желательно рабирать все функции более подробно и меньше оставлять на самостоятельное обучение. \n",
        "В дз часто встречается непройденный материал, что огорчает. Возникает ощущение, что ты полный тупл, у тебя ничего не получается и мотивация падает..."
      ],
      "execution_count": null,
      "outputs": []
    }
  ]
}